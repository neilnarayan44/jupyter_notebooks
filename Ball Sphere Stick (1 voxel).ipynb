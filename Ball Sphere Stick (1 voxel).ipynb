{
 "cells": [
  {
   "cell_type": "code",
   "execution_count": 1,
   "metadata": {},
   "outputs": [
    {
     "name": "stdout",
     "output_type": "stream",
     "text": [
      "(77, 92, 56, 1344)\n"
     ]
    }
   ],
   "source": [
    "# Load brain data and mask\n",
    "\n",
    "# Access nifti, bval & bvec files\n",
    "from os.path import expanduser, join\n",
    "home = expanduser('~')\n",
    "dname = join(home, 'brain-data-neil')\n",
    "\n",
    "fdwi = join(dname, 'cdmri11_r.nii')\n",
    "mask = join(dname, 'vol0083_brain_mask.nii.gz')\n",
    "fbval = join(dname, 'parameters_new_bval.txt')\n",
    "fbvec = join(dname, 'parameters_new_bvec2.txt')\n",
    "\n",
    "# Load dMRI datasets \n",
    "from dipy.io.image import load_nifti\n",
    "data, affine, img = load_nifti(fdwi, return_img=True)\n",
    "mask_data, affine1, img1 = load_nifti(mask, return_img=True)\n",
    "\n",
    "# Check size of data --> (77, 92, 56, 1344)\n",
    "print(data.shape)"
   ]
  },
  {
   "cell_type": "code",
   "execution_count": 2,
   "metadata": {},
   "outputs": [
    {
     "name": "stdout",
     "output_type": "stream",
     "text": [
      "Acquisition scheme summary\n",
      "\n",
      "total number of measurements: 1344\n",
      "number of b0 measurements: 84\n",
      "number of DWI shells: 4\n",
      "\n",
      "shell_index |# of DWIs |bvalue [s/mm^2] |gradient strength [mT/m] |delta [ms] |Delta[ms] |TE[ms]\n",
      "0           |84        |0               |0                        |24.2       |39.1      |N/A  \n",
      "1           |84        |500             |19                       |24.2       |39.1      |N/A  \n",
      "2           |252       |1000            |27                       |24.2       |39.1      |N/A  \n",
      "3           |420       |2000            |39                       |24.2       |39.1      |N/A  \n",
      "4           |504       |3000            |48                       |24.2       |39.1      |N/A  \n"
     ]
    }
   ],
   "source": [
    "# Set up acquisition scheme using bval, bvec\n",
    "\n",
    "# Import relevant modules\n",
    "from dmipy.core import modeling_framework\n",
    "from dmipy.core.acquisition_scheme import acquisition_scheme_from_bvalues\n",
    "from os.path import join\n",
    "import numpy as np\n",
    "\n",
    "# Load parameters and convert to SI units\n",
    "bvalues = np.loadtxt(join('parameters_new_bval.txt'))  # given in s/m^2\n",
    "bvalues_SI = bvalues * 1e6 # now given in SI units as s/mm^2\n",
    "gradient_directions = np.loadtxt(join('parameters_new_bvec.txt'))\n",
    "\n",
    "# delta and Delta times in seconds\n",
    "delta = 0.0242\n",
    "Delta = 0.0391\n",
    "\n",
    "# Acquisition scheme\n",
    "acq_scheme = acquisition_scheme_from_bvalues(bvalues_SI, gradient_directions, delta, Delta)\n",
    "acq_scheme.print_acquisition_info"
   ]
  },
  {
   "cell_type": "code",
   "execution_count": 3,
   "metadata": {},
   "outputs": [
    {
     "name": "stdout",
     "output_type": "stream",
     "text": [
      "OrderedDict([('G1Ball_1_lambda_iso', 1), ('S4SphereGaussianPhaseApproximation_1_diameter', 1), ('C1Stick_1_mu', 2), ('C1Stick_1_lambda_par', 1), ('partial_volume_0', 1), ('partial_volume_1', 1), ('partial_volume_2', 1)])\n",
      "Using parallel processing with 4 workers.\n",
      "Setup brute2fine optimizer in 46.580337047576904 seconds\n",
      "Fitting of 1 voxels complete in 1.9387807846069336 seconds.\n",
      "Average of 1.9387807846069336 seconds per voxel.\n"
     ]
    }
   ],
   "source": [
    "# Create ball, sphere & stick model\n",
    "\n",
    "# Import relevant modules\n",
    "from dmipy.signal_models import gaussian_models, cylinder_models, sphere_models\n",
    "from dmipy.core.modeling_framework import MultiCompartmentModel\n",
    "\n",
    "# Create ball, sphere and stick model\n",
    "ball = gaussian_models.G1Ball()\n",
    "sphere = sphere_models.S4SphereGaussianPhaseApproximation()\n",
    "stick = cylinder_models.C1Stick()\n",
    "bss = MultiCompartmentModel(models=[ball, sphere, stick])\n",
    "\n",
    "print(bss.parameter_cardinality)\n",
    "\n",
    "# Define 1 voxel and store in variable E\n",
    "x_pos = 64\n",
    "y_pos = 76\n",
    "z_pos = 34\n",
    "E = data[x_pos,y_pos,z_pos,:]\n",
    "# print(E.shape)\n",
    "\n",
    "# Fit this voxel to the model\n",
    "fitted_BSS = bss.fit(acq_scheme, E)"
   ]
  },
  {
   "cell_type": "code",
   "execution_count": 4,
   "metadata": {},
   "outputs": [
    {
     "data": {
      "text/plain": [
       "{'G1Ball_1_lambda_iso': array([3.e-09]),\n",
       " 'S4SphereGaussianPhaseApproximation_1_diameter': array([1.99792377e-05]),\n",
       " 'C1Stick_1_mu': array([[1.60862899, 2.49203394]]),\n",
       " 'C1Stick_1_lambda_par': array([1.e-10]),\n",
       " 'partial_volume_0': array([0.86113079]),\n",
       " 'partial_volume_1': array([0.00138869]),\n",
       " 'partial_volume_2': array([0.13748052])}"
      ]
     },
     "execution_count": 4,
     "metadata": {},
     "output_type": "execute_result"
    }
   ],
   "source": [
    "fitted_BSS.fitted_parameters"
   ]
  },
  {
   "cell_type": "code",
   "execution_count": null,
   "metadata": {},
   "outputs": [],
   "source": []
  }
 ],
 "metadata": {
  "kernelspec": {
   "display_name": "Python 3",
   "language": "python",
   "name": "python3"
  },
  "language_info": {
   "codemirror_mode": {
    "name": "ipython",
    "version": 3
   },
   "file_extension": ".py",
   "mimetype": "text/x-python",
   "name": "python",
   "nbconvert_exporter": "python",
   "pygments_lexer": "ipython3",
   "version": "3.8.3"
  }
 },
 "nbformat": 4,
 "nbformat_minor": 4
}
